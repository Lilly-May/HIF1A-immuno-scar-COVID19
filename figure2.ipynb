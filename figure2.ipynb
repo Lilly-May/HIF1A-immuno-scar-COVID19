{
 "cells": [
  {
   "cell_type": "code",
   "execution_count": 1,
   "metadata": {
    "collapsed": true,
    "ExecuteTime": {
     "end_time": "2024-01-15T18:20:25.645112Z",
     "start_time": "2024-01-15T18:20:24.968415Z"
    }
   },
   "outputs": [],
   "source": [
    "import scanpy as sc\n",
    "import numpy as np\n",
    "import matplotlib.pyplot as plt\n",
    "import pandas as pd\n",
    "import seaborn as sns\n",
    "import scipy.stats as scistats"
   ]
  },
  {
   "cell_type": "code",
   "execution_count": 2,
   "outputs": [],
   "source": [
    "import warnings\n",
    "warnings.filterwarnings('ignore')"
   ],
   "metadata": {
    "collapsed": false,
    "ExecuteTime": {
     "end_time": "2024-01-15T18:20:25.651863Z",
     "start_time": "2024-01-15T18:20:25.650467Z"
    }
   }
  },
  {
   "cell_type": "code",
   "execution_count": 3,
   "outputs": [],
   "source": [
    "all_samples = sc.read('all_groups.h5ad')"
   ],
   "metadata": {
    "collapsed": false,
    "pycharm": {
     "name": "#%%\n"
    },
    "ExecuteTime": {
     "end_time": "2024-01-15T18:20:30.217825Z",
     "start_time": "2024-01-15T18:20:25.650693Z"
    }
   }
  },
  {
   "cell_type": "code",
   "execution_count": 4,
   "outputs": [],
   "source": [
    "sc.set_figure_params(dpi=200)"
   ],
   "metadata": {
    "collapsed": false,
    "pycharm": {
     "name": "#%%\n"
    },
    "ExecuteTime": {
     "end_time": "2024-01-15T18:20:30.227724Z",
     "start_time": "2024-01-15T18:20:30.218764Z"
    }
   }
  },
  {
   "cell_type": "code",
   "execution_count": 5,
   "outputs": [],
   "source": [
    "save_path = 'figures'"
   ],
   "metadata": {
    "collapsed": false,
    "pycharm": {
     "name": "#%%\n"
    },
    "ExecuteTime": {
     "end_time": "2024-01-15T18:20:30.227958Z",
     "start_time": "2024-01-15T18:20:30.223399Z"
    }
   }
  },
  {
   "cell_type": "code",
   "execution_count": 6,
   "outputs": [],
   "source": [
    "tp = all_samples.obs['timepoint']\n",
    "clin_sc = all_samples.obs['clinical_score']\n",
    "tp_and_cs = []\n",
    "\n",
    "for t, c in zip(tp, clin_sc):\n",
    "    tp_and_cs.append(f'Week{t.split(\"k\")[1]}    cs{c}')\n",
    "\n",
    "all_samples.obs['cs_and_tp'] = tp_and_cs"
   ],
   "metadata": {
    "collapsed": false,
    "pycharm": {
     "name": "#%%\n"
    },
    "ExecuteTime": {
     "end_time": "2024-01-15T18:20:30.272210Z",
     "start_time": "2024-01-15T18:20:30.231079Z"
    }
   }
  },
  {
   "cell_type": "code",
   "execution_count": 7,
   "outputs": [],
   "source": [
    "new_tp = []\n",
    "for tp in all_samples.obs['timepoint']:\n",
    "    if tp == 'week2':\n",
    "        new_tp.append('Week 2')\n",
    "    elif tp == 'week4':\n",
    "        new_tp.append('Week 4')\n",
    "    elif tp == 'week6':\n",
    "        new_tp.append('Week 6')\n",
    "all_samples.obs['new_timepoint'] = new_tp"
   ],
   "metadata": {
    "collapsed": false,
    "pycharm": {
     "name": "#%%\n"
    },
    "ExecuteTime": {
     "end_time": "2024-01-15T18:20:30.292681Z",
     "start_time": "2024-01-15T18:20:30.273401Z"
    }
   }
  },
  {
   "cell_type": "code",
   "execution_count": 8,
   "outputs": [],
   "source": [
    "monos = all_samples[(all_samples.obs['Cell type'] == 'Monocyte')]\n",
    "b_cells = all_samples[(all_samples.obs['Cell type'] == 'B cell')]"
   ],
   "metadata": {
    "collapsed": false,
    "pycharm": {
     "name": "#%%\n"
    },
    "ExecuteTime": {
     "end_time": "2024-01-15T18:20:30.335900Z",
     "start_time": "2024-01-15T18:20:30.296364Z"
    }
   }
  },
  {
   "cell_type": "code",
   "execution_count": 9,
   "outputs": [
    {
     "data": {
      "text/plain": "(17567, 365)"
     },
     "execution_count": 9,
     "metadata": {},
     "output_type": "execute_result"
    }
   ],
   "source": [
    "monos.shape"
   ],
   "metadata": {
    "collapsed": false,
    "pycharm": {
     "name": "#%%\n"
    },
    "ExecuteTime": {
     "end_time": "2024-01-15T18:20:30.343259Z",
     "start_time": "2024-01-15T18:20:30.337875Z"
    }
   }
  },
  {
   "cell_type": "markdown",
   "source": [
    "# Stacked violin with p-values: Different methods to create plots"
   ],
   "metadata": {
    "collapsed": false
   }
  },
  {
   "cell_type": "code",
   "execution_count": 10,
   "outputs": [],
   "source": [
    "def violin_with_p_gene(adata_temp, clinical_score, gene, cell_type, axarr, gene_nr, custom_top, altern_H):\n",
    "    plt.sca(axarr[gene_nr])\n",
    "    if clinical_score != 'all':\n",
    "        adata_temp_cs = adata_temp[adata_temp.obs['clinical_score'] == clinical_score]\n",
    "    else:\n",
    "        adata_temp_cs = adata_temp\n",
    "    adata_temp_cs.obs[\"value\"] = 0\n",
    "    position_gene = -1\n",
    "    for i, gn in enumerate(adata_temp_cs.var_names):\n",
    "        if gn == gene:\n",
    "            position_gene = i\n",
    "\n",
    "    if cell_type != 'all cell':\n",
    "        adata_cs_type = adata_temp_cs[adata_temp_cs.obs['Cell type'] == cell_type]\n",
    "    else:\n",
    "        adata_cs_type = adata_temp_cs\n",
    "    adata_cs_type.obs[\"value\"] = 0\n",
    "\n",
    "    sc.settings.verbosity = 0\n",
    "    #plt.rcParams[\"figure.figsize\"] = 3, 6\n",
    "\n",
    "    df = pd.DataFrame({\"Timepoint\": adata_cs_type.obs['new_timepoint'],\n",
    "                       \"expression\": adata_cs_type.layers['two_batch_correction'][:, position_gene]})\n",
    "    ax = sns.violinplot(data=df, y=\"expression\", x=\"Timepoint\", order=['Week 2', 'Week 4', 'Week 6'])\n",
    "    \n",
    "    if clinical_score == 'all':\n",
    "        ax.set_ylabel(gene)\n",
    "    else:\n",
    "        ax.set_ylabel(f'c.s. {clinical_score}')\n",
    "\n",
    "    week2 = adata_cs_type[adata_cs_type.obs['timepoint'] == 'week2']\n",
    "    week4 = adata_cs_type[adata_cs_type.obs['timepoint'] == 'week4']\n",
    "    week6 = adata_cs_type[adata_cs_type.obs['timepoint'] == 'week6']\n",
    "\n",
    "    p_adj_week2vs4 = scistats.ranksums(week2.layers['two_batch_correction'][:, position_gene],\n",
    "                                       week4.layers['two_batch_correction'][:, position_gene],\n",
    "                                       alternative=altern_H)[1]  #* correction\n",
    "    #print('2 vs 4: ' + str(p_adj_week2vs4))\n",
    "    p_adj_week2vs6 = scistats.ranksums(week2.layers['two_batch_correction'][:, position_gene],\n",
    "                                       week6.layers['two_batch_correction'][:, position_gene],\n",
    "                                       alternative=altern_H)[1]  #* correction\n",
    "    #print('2 vs 6: ' + str(p_adj_week2vs6))\n",
    "    p_adj_week4vs6 = scistats.ranksums(week4.layers['two_batch_correction'][:, position_gene],\n",
    "                                       week6.layers['two_batch_correction'][:, position_gene],\n",
    "                                       alternative=altern_H)[1]  #* correction\n",
    "    #print('4 vs 6: ' + str(p_adj_week4vs6))\n",
    "\n",
    "    top = np.ceil(np.max(adata_cs_type.layers['two_batch_correction'][:, position_gene]))\n",
    "\n",
    "    ax.annotate(\"\", xy=(0.15, top), xytext=(0.85, top),\n",
    "                arrowprops={'arrowstyle': '-'}, va='center')\n",
    "    ax.annotate(\"\", xy=(1.15, top), xytext=(1.85, top),\n",
    "                arrowprops={'arrowstyle': '-'}, va='center')\n",
    "    ax.annotate(\"\", xy=(0.15, top + 1.25), xytext=(1.85, top + 1.25),\n",
    "                arrowprops={'arrowstyle': '-'}, va='center')\n",
    "\n",
    "    if p_adj_week2vs6 == 0 or p_adj_week2vs6 >= 1:\n",
    "        ax.annotate(min(int(p_adj_week2vs6), 1), xy=(1, top + 1.4), fontsize=9)\n",
    "    else:\n",
    "        ax.annotate('{:.2e}'.format(p_adj_week2vs6), xy=(0.8, top + 1.4), fontsize=9)\n",
    "\n",
    "    if p_adj_week2vs4 == 0 or p_adj_week2vs4 >= 1:\n",
    "        ax.annotate(min(int(p_adj_week2vs4), 1), xy=(0.4, top + 0.15), fontsize=9)\n",
    "    else:\n",
    "        ax.annotate('{:.2e}'.format(p_adj_week2vs4), xy=(0.2, top + 0.15), fontsize=9)\n",
    "    if p_adj_week4vs6 == 0 or p_adj_week4vs6 >= 1:\n",
    "        ax.annotate(min(int(p_adj_week4vs6), 1), xy=(1.4, top + 0.15), fontsize=9)\n",
    "    else:\n",
    "        ax.annotate('{:.2e}'.format(p_adj_week4vs6), xy=(1.2, top + 0.15), fontsize=9)\n",
    "\n",
    "    ax.set_ylim(top=custom_top)"
   ],
   "metadata": {
    "collapsed": false,
    "pycharm": {
     "name": "#%%\n"
    },
    "ExecuteTime": {
     "end_time": "2024-01-15T18:20:30.367446Z",
     "start_time": "2024-01-15T18:20:30.352646Z"
    }
   }
  },
  {
   "cell_type": "code",
   "execution_count": 11,
   "outputs": [],
   "source": [
    "def custom_violin_plot(gene_list, adata, custom_top, save_name):\n",
    "    fig = plt.figure()\n",
    "    plt.rcParams[\"figure.figsize\"] = 3, (len(gene_list) * 2)\n",
    "    gs = fig.add_gridspec(len(gene_list), hspace=0)\n",
    "    axs = gs.subplots(sharex=True, sharey=True)\n",
    "    for i in range(len(gene_list)):\n",
    "        violin_with_p_gene(adata, clinical_score='all', gene=gene_list[i], cell_type='all cell', axarr=axs, gene_nr=i, custom_top=custom_top, altern_H='two-sided')\n",
    "\n",
    "    # Hide x labels and tick labels for all but bottom plot.\n",
    "    for ax in axs:\n",
    "        ax.label_outer()\n",
    "\n",
    "    plt.xlabel(\"\")\n",
    "\n",
    "    plt.savefig(f'{save_path}/{save_name}.pdf', bbox_inches='tight')"
   ],
   "metadata": {
    "collapsed": false,
    "pycharm": {
     "name": "#%%\n"
    },
    "ExecuteTime": {
     "end_time": "2024-01-15T18:20:30.390328Z",
     "start_time": "2024-01-15T18:20:30.356991Z"
    }
   }
  },
  {
   "cell_type": "code",
   "execution_count": 12,
   "outputs": [],
   "source": [
    "def violin_stacked_by_cs(gene, adata, custom_top):\n",
    "    fig = plt.figure()\n",
    "    plt.rcParams[\"figure.figsize\"] = 3, (6 * 2)\n",
    "    gs = fig.add_gridspec(6, hspace=0)\n",
    "    axs = gs.subplots(sharex=True, sharey=True)\n",
    "    for i, cs in enumerate([0, 11, 14, 17, 19, 26]):\n",
    "        violin_with_p_gene(adata, clinical_score=cs, gene=gene, cell_type='all cell', axarr=axs, gene_nr=i,\n",
    "                           custom_top=custom_top, altern_H='greater')\n",
    "\n",
    "    # Hide x labels and tick labels for all but bottom plot.\n",
    "    for ax in axs:\n",
    "        ax.label_outer()\n",
    "\n",
    "    plt.xlabel(\"\")\n",
    "\n",
    "    plt.savefig(f'{save_path}/{gene}_stacked_by_cs.pdf', bbox_inches='tight')"
   ],
   "metadata": {
    "collapsed": false,
    "pycharm": {
     "name": "#%%\n"
    },
    "ExecuteTime": {
     "end_time": "2024-01-15T18:20:30.390471Z",
     "start_time": "2024-01-15T18:20:30.361690Z"
    }
   }
  },
  {
   "cell_type": "markdown",
   "source": [
    "# Cytokines"
   ],
   "metadata": {
    "collapsed": false,
    "pycharm": {
     "name": "#%% md\n"
    }
   }
  },
  {
   "cell_type": "code",
   "execution_count": 13,
   "outputs": [],
   "source": [
    "cytokines = ['IL10', 'IL12A', 'IL15', 'IL18', 'IL1A', 'IL1B', 'IL6', 'TGFB1', 'TNF', 'CXCL8']"
   ],
   "metadata": {
    "collapsed": false,
    "pycharm": {
     "name": "#%%\n"
    },
    "ExecuteTime": {
     "end_time": "2024-01-15T18:20:30.390519Z",
     "start_time": "2024-01-15T18:20:30.364936Z"
    }
   }
  },
  {
   "cell_type": "code",
   "execution_count": null,
   "outputs": [],
   "source": [
    "custom_violin_plot(cytokines[:5], monos, 10, 'cyto_1')\n",
    "custom_violin_plot(cytokines[5:], monos, 10, 'cyto_2')"
   ],
   "metadata": {
    "collapsed": false,
    "pycharm": {
     "name": "#%%\n"
    }
   }
  },
  {
   "cell_type": "markdown",
   "source": [
    "# Chemokines"
   ],
   "metadata": {
    "collapsed": false,
    "pycharm": {
     "name": "#%% md\n"
    }
   }
  },
  {
   "cell_type": "code",
   "execution_count": 15,
   "outputs": [],
   "source": [
    "chemokines = ['CCL22', 'CCL3', 'CCL4', 'CCL5', 'CXCL10']"
   ],
   "metadata": {
    "collapsed": false,
    "pycharm": {
     "name": "#%%\n"
    },
    "ExecuteTime": {
     "end_time": "2024-01-15T18:20:34.845286Z",
     "start_time": "2024-01-15T18:20:34.844176Z"
    }
   }
  },
  {
   "cell_type": "code",
   "execution_count": null,
   "outputs": [],
   "source": [
    "custom_violin_plot(chemokines, monos, custom_top=12.5, save_name='chemokines')"
   ],
   "metadata": {
    "collapsed": false,
    "pycharm": {
     "name": "#%%\n"
    }
   }
  },
  {
   "cell_type": "markdown",
   "source": [
    "# MHC class I and II"
   ],
   "metadata": {
    "collapsed": false,
    "pycharm": {
     "name": "#%% md\n"
    }
   }
  },
  {
   "cell_type": "code",
   "execution_count": 17,
   "outputs": [
    {
     "name": "stdout",
     "output_type": "stream",
     "text": [
      "['HLA-A', 'HLA-C', 'HLA-DMA', 'HLA-DMB', 'HLA-DPA1', 'HLA-DPB1', 'HLA-DQA1', 'HLA-DQB1', 'HLA-DRA', 'HLA-DRB3']\n"
     ]
    }
   ],
   "source": [
    "mhcs = [gene for gene in all_samples.var_names if gene.startswith('HLA')]\n",
    "print(mhcs)"
   ],
   "metadata": {
    "collapsed": false,
    "pycharm": {
     "name": "#%%\n"
    },
    "ExecuteTime": {
     "end_time": "2024-01-15T18:20:36.181642Z",
     "start_time": "2024-01-15T18:20:36.178686Z"
    }
   }
  },
  {
   "cell_type": "code",
   "execution_count": 18,
   "outputs": [],
   "source": [
    "cat_order = ['Week6    cs0', 'Week6    cs11', 'Week6    cs14', 'Week6    cs17', 'Week6    cs19', 'Week6    cs26',\n",
    "             'Week4    cs0', 'Week4    cs11', 'Week4    cs14', 'Week4    cs17', 'Week4    cs19', 'Week4    cs26',\n",
    "             'Week2    cs0', 'Week2    cs11', 'Week2    cs14', 'Week2    cs17', 'Week2    cs19', 'Week2    cs26']"
   ],
   "metadata": {
    "collapsed": false,
    "pycharm": {
     "name": "#%%\n"
    },
    "ExecuteTime": {
     "end_time": "2024-01-15T18:20:36.184520Z",
     "start_time": "2024-01-15T18:20:36.181048Z"
    }
   }
  },
  {
   "cell_type": "code",
   "execution_count": 19,
   "outputs": [
    {
     "data": {
      "text/plain": "{'mainplot_ax': <AxesSubplot:>,\n 'color_legend_ax': <AxesSubplot:title={'center':'Median expression\\nin group'}>}"
     },
     "execution_count": 19,
     "metadata": {},
     "output_type": "execute_result"
    }
   ],
   "source": [
    "sc.pl.stacked_violin(monos, mhcs, groupby='cs_and_tp', categories_order=cat_order, show=False,\n",
    "                     save='HLA_expression_monos.pdf',\n",
    "                     bbox_inches='tight', cmap='viridis')"
   ],
   "metadata": {
    "collapsed": false,
    "pycharm": {
     "name": "#%%\n"
    },
    "ExecuteTime": {
     "end_time": "2024-01-15T18:20:37.420909Z",
     "start_time": "2024-01-15T18:20:36.186471Z"
    }
   }
  },
  {
   "cell_type": "code",
   "execution_count": 20,
   "outputs": [
    {
     "data": {
      "text/plain": "{'mainplot_ax': <AxesSubplot:>,\n 'color_legend_ax': <AxesSubplot:title={'center':'Median expression\\nin group'}>}"
     },
     "execution_count": 20,
     "metadata": {},
     "output_type": "execute_result"
    }
   ],
   "source": [
    "sc.pl.stacked_violin(b_cells, mhcs, groupby='cs_and_tp', categories_order=cat_order, show=False,\n",
    "                     save='HLA_expression__bcells.pdf', bbox_inches='tight', cmap='viridis')"
   ],
   "metadata": {
    "collapsed": false,
    "pycharm": {
     "name": "#%%\n"
    },
    "ExecuteTime": {
     "end_time": "2024-01-15T18:20:38.621151Z",
     "start_time": "2024-01-15T18:20:37.421375Z"
    }
   }
  },
  {
   "cell_type": "markdown",
   "source": [
    "# Individual genes: Violin plots stacked by cs"
   ],
   "metadata": {
    "collapsed": false,
    "pycharm": {
     "name": "#%% md\n"
    }
   }
  },
  {
   "cell_type": "code",
   "source": [
    "violin_stacked_by_cs('IL1B', monos, 11)"
   ],
   "metadata": {
    "collapsed": false,
    "pycharm": {
     "name": "#%%\n"
    }
   },
   "execution_count": null,
   "outputs": []
  },
  {
   "cell_type": "code",
   "execution_count": null,
   "outputs": [],
   "source": [
    "violin_stacked_by_cs('CXCL8', monos, 11.5)"
   ],
   "metadata": {
    "collapsed": false,
    "pycharm": {
     "name": "#%%\n"
    }
   }
  },
  {
   "cell_type": "code",
   "execution_count": null,
   "outputs": [],
   "source": [
    "violin_stacked_by_cs('CCL3', monos, 11)"
   ],
   "metadata": {
    "collapsed": false,
    "pycharm": {
     "name": "#%%\n"
    }
   }
  }
 ],
 "metadata": {
  "kernelspec": {
   "display_name": "Python 3",
   "language": "python",
   "name": "python3"
  },
  "language_info": {
   "codemirror_mode": {
    "name": "ipython",
    "version": 2
   },
   "file_extension": ".py",
   "mimetype": "text/x-python",
   "name": "python",
   "nbconvert_exporter": "python",
   "pygments_lexer": "ipython2",
   "version": "2.7.6"
  }
 },
 "nbformat": 4,
 "nbformat_minor": 0
}

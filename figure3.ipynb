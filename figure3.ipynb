{
 "cells": [
  {
   "cell_type": "code",
   "execution_count": 1,
   "metadata": {
    "collapsed": true,
    "ExecuteTime": {
     "end_time": "2024-01-15T18:36:03.866093Z",
     "start_time": "2024-01-15T18:36:03.198161Z"
    }
   },
   "outputs": [],
   "source": [
    "import scanpy as sc\n",
    "import matplotlib.pyplot as plt\n",
    "import scipy.stats as scistats\n",
    "import pandas as pd\n",
    "import seaborn as sns\n",
    "import numpy as np\n",
    "import statistics\n",
    "import math"
   ]
  },
  {
   "cell_type": "code",
   "execution_count": 2,
   "outputs": [],
   "source": [
    "all_samples = sc.read('all_groups.h5ad')"
   ],
   "metadata": {
    "collapsed": false,
    "pycharm": {
     "name": "#%%\n"
    },
    "ExecuteTime": {
     "end_time": "2024-01-15T18:36:10.777487Z",
     "start_time": "2024-01-15T18:36:03.869503Z"
    }
   }
  },
  {
   "cell_type": "code",
   "execution_count": 3,
   "outputs": [],
   "source": [
    "save_path = 'figures'"
   ],
   "metadata": {
    "collapsed": false,
    "pycharm": {
     "name": "#%%\n"
    },
    "ExecuteTime": {
     "end_time": "2024-01-15T18:36:10.780699Z",
     "start_time": "2024-01-15T18:36:10.778255Z"
    }
   }
  },
  {
   "cell_type": "code",
   "execution_count": 4,
   "outputs": [],
   "source": [
    "sc.set_figure_params(dpi=200)"
   ],
   "metadata": {
    "collapsed": false,
    "pycharm": {
     "name": "#%%\n"
    },
    "ExecuteTime": {
     "end_time": "2024-01-15T18:36:10.789074Z",
     "start_time": "2024-01-15T18:36:10.784542Z"
    }
   }
  },
  {
   "cell_type": "code",
   "execution_count": 5,
   "outputs": [],
   "source": [
    "new_tp = []\n",
    "for tp in all_samples.obs['timepoint']:\n",
    "    if tp == 'week2':\n",
    "        new_tp.append('Week 2')\n",
    "    elif tp == 'week4':\n",
    "        new_tp.append('Week 4')\n",
    "    elif tp == 'week6':\n",
    "        new_tp.append('Week 6')\n",
    "all_samples.obs['new_timepoint'] = new_tp"
   ],
   "metadata": {
    "collapsed": false,
    "pycharm": {
     "name": "#%%\n"
    },
    "ExecuteTime": {
     "end_time": "2024-01-15T18:36:10.808842Z",
     "start_time": "2024-01-15T18:36:10.789609Z"
    }
   }
  },
  {
   "cell_type": "code",
   "execution_count": 6,
   "outputs": [],
   "source": [
    "monos = all_samples[(all_samples.obs['Cell type'] == 'Monocyte')]\n",
    "b_cells = all_samples[(all_samples.obs['Cell type'] == 'B cell')]"
   ],
   "metadata": {
    "collapsed": false,
    "pycharm": {
     "name": "#%%\n"
    },
    "ExecuteTime": {
     "end_time": "2024-01-15T18:36:10.848991Z",
     "start_time": "2024-01-15T18:36:10.808782Z"
    }
   }
  },
  {
   "cell_type": "markdown",
   "source": [
    "# 3a: General DEG across all cell types"
   ],
   "metadata": {
    "collapsed": false,
    "pycharm": {
     "name": "#%% md\n"
    }
   }
  },
  {
   "cell_type": "code",
   "execution_count": null,
   "outputs": [],
   "source": [
    "fig, ax = plt.subplots(figsize=(4, 10))\n",
    "sc.tl.rank_genes_groups(all_samples, groupby='new_timepoint', n_genes=10, method='wilcoxon')\n",
    "ret = sc.pl.rank_genes_groups_stacked_violin(all_samples, groupby='new_timepoint', n_genes=15,\n",
    "                                             categories_order=['Week 2', 'Week 4', 'Week 6'], swap_axes=True,\n",
    "                                             dendrogram=False, save=False, ax=ax)\n",
    "fig.savefig(f\"{save_path}/DEG_all_patients_Wilcoxon.pdf\", bbox_inches='tight')"
   ],
   "metadata": {
    "collapsed": false,
    "pycharm": {
     "name": "#%%\n"
    }
   }
  },
  {
   "cell_type": "markdown",
   "source": [
    "# 3b: HIF1A UMAP"
   ],
   "metadata": {
    "collapsed": false
   }
  },
  {
   "cell_type": "code",
   "execution_count": null,
   "outputs": [],
   "source": [
    "sc.pl.umap(all_samples, color='HIF1A', size=1, save=\"HIF1A_umap.pdf\")"
   ],
   "metadata": {
    "collapsed": false
   }
  },
  {
   "cell_type": "markdown",
   "source": [
    "# 3c: HIF1A positive cells per cell type in %"
   ],
   "metadata": {
    "collapsed": false
   }
  },
  {
   "cell_type": "code",
   "execution_count": 9,
   "outputs": [],
   "source": [
    "cell_type_list = ['CD4 T cell', 'CD8 T cell', 'gdT cell', 'NK T cell', 'NK cell', 'Monocyte', 'DC', 'B cell']"
   ],
   "metadata": {
    "collapsed": false,
    "ExecuteTime": {
     "end_time": "2024-01-15T18:36:18.989025Z",
     "start_time": "2024-01-15T18:36:18.988621Z"
    }
   }
  },
  {
   "cell_type": "code",
   "execution_count": 10,
   "outputs": [],
   "source": [
    "genes = all_samples.var_names\n",
    "genes = list(genes)\n",
    "\n",
    "\n",
    "def cell_type_bar_gene_expr_percentage(adata, gene, cs):\n",
    "    adata_temp = adata\n",
    "    adata_temp.obs[\"value\"] = 0\n",
    "    if cs != 'all':\n",
    "        adata_temp = adata_temp[(adata_temp.obs['clinical_score'] == cs)]\n",
    "\n",
    "    x = cell_type_list\n",
    "    y = []\n",
    "    for cell_type in cell_type_list:\n",
    "        adata_ct_temp = adata_temp[(adata_temp.obs['Cell type'] == cell_type)]\n",
    "        \n",
    "        positive = adata_ct_temp[adata_ct_temp[:, 'HIF1A'].X > 0]\n",
    "        total = adata_ct_temp.shape[0]\n",
    "        percentage = (positive.shape[0] / total) * 100\n",
    "\n",
    "        print(percentage)\n",
    "        y.append(percentage)\n",
    "\n",
    "    plt.rcParams[\"figure.figsize\"] = 4, 4\n",
    "    bars = plt.bar(x, y)\n",
    "    for bar in bars:\n",
    "        yval = bar.get_height()\n",
    "        plt.text(bar.get_x() - .15, yval + .5, round(yval, 2), rotation=25, fontsize=12)\n",
    "    #plt.title(f'{gene} positive cells')#; clinical score: {cs}\n",
    "    plt.xlabel('Cell type')\n",
    "    plt.ylabel('HIF1A positive cells [%]')\n",
    "    plt.ylim(0, 100)\n",
    "    ax = plt.gca()\n",
    "    ax.set_xticklabels(labels=cell_type_list, rotation=90)\n",
    "    plt.savefig(f'{save_path}/Percentage_HIF1A_positive_cells.pdf', bbox_inches='tight')"
   ],
   "metadata": {
    "collapsed": false,
    "ExecuteTime": {
     "end_time": "2024-01-15T18:36:18.991072Z",
     "start_time": "2024-01-15T18:36:18.988709Z"
    }
   }
  },
  {
   "cell_type": "code",
   "execution_count": null,
   "outputs": [],
   "source": [
    "cell_type_bar_gene_expr_percentage(all_samples, 'HIF1A', 'all')"
   ],
   "metadata": {
    "collapsed": false
   }
  },
  {
   "cell_type": "markdown",
   "source": [
    "# 3f: Correlation: HIF1A & cs"
   ],
   "metadata": {
    "collapsed": false,
    "pycharm": {
     "name": "#%% md\n"
    }
   }
  },
  {
   "cell_type": "code",
   "execution_count": 12,
   "outputs": [],
   "source": [
    "def correlation_logfc_cs(adata, gene, cell_type):\n",
    "    if cell_type != 'all':\n",
    "        adata = adata[(adata.obs['Cell type'] == cell_type)]\n",
    "    pos_gene = -1\n",
    "    for i, gn in enumerate(adata.var_names):\n",
    "        if gn == gene:\n",
    "            pos_gene = i\n",
    "\n",
    "    plt.figure(figsize=(4, 4))\n",
    "    logfc_values_week4, logfc_values_week6, cs_values = [], [], []\n",
    "    for cs in list(set(adata.obs['clinical_score'])):\n",
    "        adata_cs = adata[(adata.obs['clinical_score'] == cs)]\n",
    "        week2 = adata_cs[(adata_cs.obs['timepoint'] == 'week2')]\n",
    "        week4 = adata_cs[(adata_cs.obs['timepoint'] == 'week4')]\n",
    "        week6 = adata_cs[(adata_cs.obs['timepoint'] == 'week6')]\n",
    "\n",
    "        #calculate mean of normalized (NOT log-normalized) counts\n",
    "        mean_week2 = statistics.mean(week2.layers['two_batch_correction'][:, pos_gene])\n",
    "        mean_week4 = statistics.mean(week4.layers['two_batch_correction'][:, pos_gene])\n",
    "        mean_week6 = statistics.mean(week6.layers['two_batch_correction'][:, pos_gene])\n",
    "        lfc_week2vs4 = mean_week2 / mean_week4\n",
    "        lfc_week2vs6 = mean_week2 / mean_week6\n",
    "\n",
    "        logfc_values_week4.append(math.log2(lfc_week2vs4))\n",
    "        logfc_values_week6.append(math.log2(lfc_week2vs6))\n",
    "        cs_values.append(cs)\n",
    "\n",
    "    x = np.array(cs_values)\n",
    "    y = np.array(logfc_values_week4)\n",
    "    plt.scatter(x, y, color='blue')\n",
    "    plt.plot(np.unique(x), np.poly1d(np.polyfit(x, y, 1))(np.unique(x)), color='blue', label=\"Week 2 vs 4\")\n",
    "    y = np.array(logfc_values_week6)\n",
    "    plt.scatter(x, y, color='red')\n",
    "    plt.plot(np.unique(x), np.poly1d(np.polyfit(x, y, 1))(np.unique(x)), color='red', label=\"Week 2 vs 6\")\n",
    "\n",
    "    x = pd.Series(cs_values)\n",
    "    y = pd.Series(logfc_values_week4)\n",
    "    correlation = y.corr(x)\n",
    "    print(f\"week 2 vs 4:  {correlation}\")\n",
    "    plt.text(18, -0.5, f'PCC: {round(correlation, 2)}', color='blue')\n",
    "    y = pd.Series(logfc_values_week6)\n",
    "    correlation = y.corr(x)\n",
    "    print(f\"week 2 vs 6:  {correlation}\")\n",
    "    plt.text(18, -0.62, f'PCC: {round(correlation, 2)}', color='red')\n",
    "\n",
    "    plt.legend()\n",
    "    plt.xlabel('Clinical score')\n",
    "    plt.ylabel('Log2 fold change')\n",
    "    plt.savefig(f'{save_path}/{cell_type}_HIF1A_cs_correlation.pdf', bbox_inches='tight')"
   ],
   "metadata": {
    "collapsed": false,
    "pycharm": {
     "name": "#%%\n"
    },
    "ExecuteTime": {
     "end_time": "2024-01-15T18:36:19.602211Z",
     "start_time": "2024-01-15T18:36:19.599823Z"
    }
   }
  },
  {
   "cell_type": "code",
   "execution_count": null,
   "outputs": [],
   "source": [
    "for cell_type in cell_type_list:\n",
    "    correlation_logfc_cs(all_samples, 'HIF1A', cell_type)"
   ],
   "metadata": {
    "collapsed": false,
    "pycharm": {
     "name": "#%%\n"
    }
   }
  },
  {
   "cell_type": "markdown",
   "source": [
    "# 3d: HIF1A in other cell types (stacked violin with p-values)"
   ],
   "metadata": {
    "collapsed": false,
    "pycharm": {
     "name": "#%% md\n"
    }
   }
  },
  {
   "cell_type": "code",
   "execution_count": 14,
   "outputs": [],
   "source": [
    "def violin_with_p_gene_for_cs(adata_temp, clinical_score, gene, cell_type, axarr, gene_nr, custom_top):\n",
    "    plt.sca(axarr[gene_nr])\n",
    "    if clinical_score != 'all':\n",
    "        adata_temp_cs = adata_temp[adata_temp.obs['clinical_score'] == clinical_score]\n",
    "    else:\n",
    "        adata_temp_cs = adata_temp\n",
    "    adata_temp_cs.obs[\"value\"] = 0\n",
    "    position_gene = -1\n",
    "    for i, gn in enumerate(adata_temp_cs.var_names):\n",
    "        if gn == gene:\n",
    "            position_gene = i\n",
    "\n",
    "    if cell_type != 'all cell':\n",
    "        adata_cs_type = adata_temp_cs[adata_temp_cs.obs['Cell type'] == cell_type]\n",
    "    else:\n",
    "        adata_cs_type = adata_temp_cs\n",
    "    adata_cs_type.obs[\"value\"] = 0\n",
    "\n",
    "    sc.settings.verbosity = 0\n",
    "\n",
    "    df = pd.DataFrame({\"Timepoint\": adata_cs_type.obs['new_timepoint'],\n",
    "                       \"expression\": adata_cs_type.layers['two_batch_correction'][:, position_gene]})\n",
    "    ax = sns.violinplot(data=df, y=\"expression\", x=\"Timepoint\", order=['Week 2', 'Week 4', 'Week 6'])\n",
    "\n",
    "    if clinical_score == 'all':\n",
    "        if cell_type != 'all cell':\n",
    "            ax.set_ylabel(cell_type)\n",
    "        else:\n",
    "            ax.set_ylabel(gene)\n",
    "    else:\n",
    "        ax.set_ylabel(f'c.s. {clinical_score}')\n",
    "\n",
    "    week2 = adata_cs_type[adata_cs_type.obs['timepoint'] == 'week2']\n",
    "    week4 = adata_cs_type[adata_cs_type.obs['timepoint'] == 'week4']\n",
    "    week6 = adata_cs_type[adata_cs_type.obs['timepoint'] == 'week6']\n",
    "\n",
    "    p_adj_week2vs4 = scistats.ranksums(week2.layers['two_batch_correction'][:, position_gene],\n",
    "                                       week4.layers['two_batch_correction'][:, position_gene],\n",
    "                                       alternative='greater')[1]\n",
    "    p_adj_week2vs6 = scistats.ranksums(week2.layers['two_batch_correction'][:, position_gene],\n",
    "                                       week6.layers['two_batch_correction'][:, position_gene],\n",
    "                                       alternative='greater')[1]\n",
    "    p_adj_week4vs6 = scistats.ranksums(week4.layers['two_batch_correction'][:, position_gene],\n",
    "                                       week6.layers['two_batch_correction'][:, position_gene],\n",
    "                                       alternative='greater')[1]\n",
    "\n",
    "    top = np.ceil(np.max(adata_cs_type.layers['two_batch_correction'][:, position_gene]))\n",
    "\n",
    "    ax.annotate(\"\", xy=(0.15, top), xytext=(0.85, top),\n",
    "                arrowprops={'arrowstyle': '-'}, va='center')\n",
    "    ax.annotate(\"\", xy=(1.15, top), xytext=(1.85, top),\n",
    "                arrowprops={'arrowstyle': '-'}, va='center')\n",
    "    ax.annotate(\"\", xy=(0.15, top + 1.6), xytext=(1.85, top + 1.6),\n",
    "                arrowprops={'arrowstyle': '-'}, va='center')\n",
    "\n",
    "    if p_adj_week2vs6 == 0 or p_adj_week2vs6 >= 1:\n",
    "        ax.annotate(min(int(p_adj_week2vs6), 1), xy=(1, top + 1.75), fontsize=9)\n",
    "    else:\n",
    "        ax.annotate('{:.2e}'.format(p_adj_week2vs6), xy=(0.8, top + 1.75), fontsize=9)\n",
    "\n",
    "    if p_adj_week2vs4 == 0 or p_adj_week2vs4 >= 1:\n",
    "        ax.annotate(min(int(p_adj_week2vs4), 1), xy=(0.4, top + 0.15), fontsize=9)\n",
    "    else:\n",
    "        ax.annotate('{:.2e}'.format(p_adj_week2vs4), xy=(0.2, top + 0.15), fontsize=9)\n",
    "    if p_adj_week4vs6 == 0 or p_adj_week4vs6 >= 1:\n",
    "        ax.annotate(min(int(p_adj_week4vs6), 1), xy=(1.4, top + 0.15), fontsize=9)\n",
    "    else:\n",
    "        ax.annotate('{:.2e}'.format(p_adj_week4vs6), xy=(1.2, top + 0.15), fontsize=9)"
   ],
   "metadata": {
    "collapsed": false,
    "pycharm": {
     "name": "#%%\n"
    },
    "ExecuteTime": {
     "end_time": "2024-01-15T18:36:23.746672Z",
     "start_time": "2024-01-15T18:36:23.130850Z"
    }
   }
  },
  {
   "cell_type": "code",
   "execution_count": 15,
   "outputs": [],
   "source": [
    "def violin_stacked_by_cell_type(gene, adata, custom_top):\n",
    "    fig = plt.figure()\n",
    "    plt.rcParams[\"figure.figsize\"] = 3, (8 * 1.5)\n",
    "    gs = fig.add_gridspec(8, hspace=0)\n",
    "    axs = gs.subplots(sharex=True, sharey=True)\n",
    "\n",
    "    cell_type_list = ['CD4 T cell', 'CD8 T cell', 'gdT cell', 'NK T cell', 'NK cell', 'Monocyte', 'DC', 'B cell']\n",
    "\n",
    "    for i, cell_type in enumerate(cell_type_list):\n",
    "        violin_with_p_gene_for_cs(adata, clinical_score='all', gene=gene, cell_type=cell_type, axarr=axs, gene_nr=i,\n",
    "                                  custom_top=custom_top)\n",
    "\n",
    "    # Hide x labels and tick labels for all but bottom plot.\n",
    "    for ax in axs:\n",
    "        ax.label_outer()\n",
    "\n",
    "    plt.xlabel(\"\")\n",
    "\n",
    "    plt.savefig(f'{save_path}/{gene}_stacked_by_cell_type_greater_V2.pdf', bbox_inches='tight')"
   ],
   "metadata": {
    "collapsed": false,
    "pycharm": {
     "name": "#%%\n"
    },
    "ExecuteTime": {
     "end_time": "2024-01-15T18:36:23.746713Z",
     "start_time": "2024-01-15T18:36:23.144291Z"
    }
   }
  },
  {
   "cell_type": "code",
   "execution_count": null,
   "outputs": [],
   "source": [
    "violin_stacked_by_cell_type('HIF1A', all_samples, 11)"
   ],
   "metadata": {
    "collapsed": false,
    "pycharm": {
     "name": "#%%\n",
     "is_executing": true
    }
   }
  },
  {
   "cell_type": "markdown",
   "source": [
    "# 3e: Violin stacked by clinical score"
   ],
   "metadata": {
    "collapsed": false,
    "pycharm": {
     "name": "#%% md\n"
    }
   }
  },
  {
   "cell_type": "code",
   "execution_count": 17,
   "outputs": [],
   "source": [
    "def violin_with_p_gene(adata_temp, clinical_score, gene, cell_type, axarr, gene_nr, custom_top):\n",
    "    plt.sca(axarr[gene_nr])\n",
    "    if clinical_score != 'all':\n",
    "        adata_temp_cs = adata_temp[adata_temp.obs['clinical_score'] == clinical_score]\n",
    "    else:\n",
    "        adata_temp_cs = adata_temp\n",
    "    adata_temp_cs.obs[\"value\"] = 0\n",
    "    position_gene = -1\n",
    "    for i, gn in enumerate(adata_temp_cs.var_names):\n",
    "        if gn == gene:\n",
    "            position_gene = i\n",
    "\n",
    "    if cell_type != 'all cell':\n",
    "        adata_cs_type = adata_temp_cs[adata_temp_cs.obs['Cell type'] == cell_type]\n",
    "    else:\n",
    "        adata_cs_type = adata_temp_cs\n",
    "    adata_cs_type.obs[\"value\"] = 0\n",
    "\n",
    "    sc.settings.verbosity = 0\n",
    "\n",
    "    df = pd.DataFrame({\"Timepoint\": adata_cs_type.obs['new_timepoint'],\n",
    "                       \"expression\": adata_cs_type.layers['two_batch_correction'][:, position_gene]})\n",
    "    ax = sns.violinplot(data=df, y=\"expression\", x=\"Timepoint\", order=['Week 2', 'Week 4', 'Week 6'])\n",
    "    if clinical_score == 'all':\n",
    "        ax.set_ylabel(gene)\n",
    "    else:\n",
    "        ax.set_ylabel(f'c.s. {clinical_score}')\n",
    "\n",
    "    week2 = adata_cs_type[adata_cs_type.obs['timepoint'] == 'week2']\n",
    "    week4 = adata_cs_type[adata_cs_type.obs['timepoint'] == 'week4']\n",
    "    week6 = adata_cs_type[adata_cs_type.obs['timepoint'] == 'week6']\n",
    "\n",
    "    p_adj_week2vs4 = scistats.ranksums(week2.layers['two_batch_correction'][:, position_gene],\n",
    "                                       week4.layers['two_batch_correction'][:, position_gene],\n",
    "                                       alternative='greater')[1]\n",
    "    p_adj_week2vs6 = scistats.ranksums(week2.layers['two_batch_correction'][:, position_gene],\n",
    "                                       week6.layers['two_batch_correction'][:, position_gene],\n",
    "                                       alternative='greater')[1]\n",
    "    p_adj_week4vs6 = scistats.ranksums(week4.layers['two_batch_correction'][:, position_gene],\n",
    "                                       week6.layers['two_batch_correction'][:, position_gene],\n",
    "                                       alternative='greater')[1]\n",
    "\n",
    "    top = np.ceil(np.max(adata_cs_type.layers['two_batch_correction'][:, position_gene]))\n",
    "\n",
    "    ax.annotate(\"\", xy=(0.15, top), xytext=(0.85, top),\n",
    "                arrowprops={'arrowstyle': '-'}, va='center')\n",
    "    ax.annotate(\"\", xy=(1.15, top), xytext=(1.85, top),\n",
    "                arrowprops={'arrowstyle': '-'}, va='center')\n",
    "    ax.annotate(\"\", xy=(0.15, top + 1.25), xytext=(1.85, top + 1.25),\n",
    "                arrowprops={'arrowstyle': '-'}, va='center')\n",
    "\n",
    "    if p_adj_week2vs6 == 0 or p_adj_week2vs6 >= 1:\n",
    "        ax.annotate(min(int(p_adj_week2vs6), 1), xy=(1, top + 1.4), fontsize=9)\n",
    "    else:\n",
    "        ax.annotate('{:.2e}'.format(p_adj_week2vs6), xy=(0.8, top + 1.4), fontsize=9)\n",
    "\n",
    "    if p_adj_week2vs4 == 0 or p_adj_week2vs4 >= 1:\n",
    "        ax.annotate(min(int(p_adj_week2vs4), 1), xy=(0.4, top + 0.15), fontsize=9)\n",
    "    else:\n",
    "        ax.annotate('{:.2e}'.format(p_adj_week2vs4), xy=(0.2, top + 0.15), fontsize=9)\n",
    "    if p_adj_week4vs6 == 0 or p_adj_week4vs6 >= 1:\n",
    "        ax.annotate(min(int(p_adj_week4vs6), 1), xy=(1.4, top + 0.15), fontsize=9)\n",
    "    else:\n",
    "        ax.annotate('{:.2e}'.format(p_adj_week4vs6), xy=(1.2, top + 0.15), fontsize=9)\n",
    "\n",
    "    ax.set_ylim(top=custom_top)"
   ],
   "metadata": {
    "collapsed": false,
    "pycharm": {
     "name": "#%%\n"
    },
    "ExecuteTime": {
     "end_time": "2024-01-15T18:36:25.541361Z",
     "start_time": "2024-01-15T18:36:25.539157Z"
    }
   }
  },
  {
   "cell_type": "code",
   "execution_count": 18,
   "outputs": [],
   "source": [
    "def violin_stacked_by_cs(gene, adata, custom_top, cell_type):\n",
    "    fig = plt.figure()\n",
    "    plt.rcParams[\"figure.figsize\"] = 3, (6 * 2)\n",
    "    gs = fig.add_gridspec(6, hspace=0)\n",
    "    axs = gs.subplots(sharex=True, sharey=True)\n",
    "    for i, cs in enumerate([0, 11, 14, 17, 19, 26]):\n",
    "        violin_with_p_gene(adata, clinical_score=cs, gene=gene, cell_type='all cell', axarr=axs, gene_nr=i,\n",
    "                           custom_top=custom_top)\n",
    "\n",
    "    # Hide x labels and tick labels for all but bottom plot.\n",
    "    for ax in axs:\n",
    "        ax.label_outer()\n",
    "\n",
    "    plt.xlabel(\"\")\n",
    "\n",
    "    plt.savefig(f'{save_path}/{cell_type}_{gene}_stacked_by_cs.pdf', bbox_inches='tight')"
   ],
   "metadata": {
    "collapsed": false,
    "pycharm": {
     "name": "#%%\n"
    },
    "ExecuteTime": {
     "end_time": "2024-01-15T18:36:25.547127Z",
     "start_time": "2024-01-15T18:36:25.545091Z"
    }
   }
  },
  {
   "cell_type": "code",
   "execution_count": null,
   "outputs": [],
   "source": [
    "violin_stacked_by_cs('HIF1A', monos, 11, \"Monocytes\")"
   ],
   "metadata": {
    "collapsed": false,
    "pycharm": {
     "name": "#%%\n"
    }
   }
  },
  {
   "cell_type": "code",
   "execution_count": null,
   "outputs": [],
   "source": [
    "violin_stacked_by_cs('HIF1A', b_cells, 11, \"B cells\")"
   ],
   "metadata": {
    "collapsed": false,
    "pycharm": {
     "name": "#%%\n"
    }
   }
  },
  {
   "cell_type": "markdown",
   "source": [
    "# 3g: Coexpression of HIF1A with other genes"
   ],
   "metadata": {
    "collapsed": false,
    "pycharm": {
     "name": "#%% md\n"
    }
   }
  },
  {
   "cell_type": "code",
   "execution_count": 21,
   "outputs": [],
   "source": [
    "all_genes_df = pd.DataFrame(data=all_samples.layers['two_batch_correction'], columns=all_samples.var_names)"
   ],
   "metadata": {
    "collapsed": false,
    "pycharm": {
     "name": "#%%\n"
    },
    "ExecuteTime": {
     "end_time": "2024-01-15T18:36:28.564691Z",
     "start_time": "2024-01-15T18:36:28.564072Z"
    }
   }
  },
  {
   "cell_type": "code",
   "execution_count": 22,
   "outputs": [],
   "source": [
    "corr_square = all_genes_df.corr()"
   ],
   "metadata": {
    "collapsed": false,
    "pycharm": {
     "name": "#%%\n"
    },
    "ExecuteTime": {
     "end_time": "2024-01-15T18:36:47.138258Z",
     "start_time": "2024-01-15T18:36:28.564309Z"
    }
   }
  },
  {
   "cell_type": "code",
   "execution_count": 23,
   "outputs": [],
   "source": [
    "spearman_corr_square = all_genes_df.corr(method='spearman')\n",
    "spearman_HIF1A_corr_square = spearman_corr_square[['HIF1A']]"
   ],
   "metadata": {
    "collapsed": false,
    "pycharm": {
     "name": "#%%\n"
    },
    "ExecuteTime": {
     "end_time": "2024-01-15T18:37:27.431160Z",
     "start_time": "2024-01-15T18:36:47.139969Z"
    }
   }
  },
  {
   "cell_type": "code",
   "execution_count": null,
   "outputs": [],
   "source": [
    "# top 15 genes correlated to HIF1A\n",
    "spearman_big_corrs = spearman_HIF1A_corr_square[\n",
    "    (spearman_HIF1A_corr_square['HIF1A'] > 0.39) | (spearman_HIF1A_corr_square['HIF1A'] < -0.39)]\n",
    "spearman_big_corrs"
   ],
   "metadata": {
    "collapsed": false,
    "pycharm": {
     "name": "#%%\n"
    }
   }
  },
  {
   "cell_type": "code",
   "execution_count": null,
   "outputs": [],
   "source": [
    "fig, ax = plt.subplots(figsize=(13, 1))\n",
    "sns.heatmap(spearman_big_corrs.transpose(), cmap=\"Blues\", annot=True)\n",
    "ax.set_xticklabels(ax.get_xticklabels(), rotation=45, horizontalalignment='right')\n",
    "plt.xlabel('')\n",
    "plt.ylabel('')\n",
    "plt.savefig(f'{save_path}/HIF1A_Spearman_heatmap.pdf', bbox_inches='tight')"
   ],
   "metadata": {
    "collapsed": false,
    "pycharm": {
     "name": "#%%\n"
    }
   }
  }
 ],
 "metadata": {
  "kernelspec": {
   "display_name": "Python 3",
   "language": "python",
   "name": "python3"
  },
  "language_info": {
   "codemirror_mode": {
    "name": "ipython",
    "version": 2
   },
   "file_extension": ".py",
   "mimetype": "text/x-python",
   "name": "python",
   "nbconvert_exporter": "python",
   "pygments_lexer": "ipython2",
   "version": "2.7.6"
  }
 },
 "nbformat": 4,
 "nbformat_minor": 0
}

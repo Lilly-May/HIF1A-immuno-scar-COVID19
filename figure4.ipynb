{
 "cells": [
  {
   "cell_type": "code",
   "execution_count": 8,
   "metadata": {
    "collapsed": true,
    "ExecuteTime": {
     "end_time": "2024-01-15T18:51:49.525421Z",
     "start_time": "2024-01-15T18:51:49.320476Z"
    }
   },
   "outputs": [],
   "source": [
    "import scanpy as sc\n",
    "import statistics\n",
    "import math\n",
    "import matplotlib.pyplot as plt\n",
    "import scipy.stats as scistats\n",
    "import pandas as pd\n",
    "import seaborn as sns\n",
    "import numpy as np"
   ]
  },
  {
   "cell_type": "code",
   "execution_count": 9,
   "outputs": [],
   "source": [
    "import warnings\n",
    "warnings.filterwarnings('ignore')"
   ],
   "metadata": {
    "collapsed": false,
    "ExecuteTime": {
     "end_time": "2024-01-15T18:51:49.550695Z",
     "start_time": "2024-01-15T18:51:49.324688Z"
    }
   }
  },
  {
   "cell_type": "code",
   "execution_count": 10,
   "outputs": [],
   "source": [
    "all_samples = sc.read('all_groups.h5ad')"
   ],
   "metadata": {
    "collapsed": false,
    "pycharm": {
     "name": "#%%\n"
    },
    "ExecuteTime": {
     "end_time": "2024-01-15T18:51:59.104090Z",
     "start_time": "2024-01-15T18:51:56.317633Z"
    }
   }
  },
  {
   "cell_type": "code",
   "execution_count": 11,
   "outputs": [],
   "source": [
    "save_path = 'figures'"
   ],
   "metadata": {
    "collapsed": false,
    "pycharm": {
     "name": "#%%\n"
    },
    "ExecuteTime": {
     "end_time": "2024-01-15T18:51:59.108322Z",
     "start_time": "2024-01-15T18:51:59.103940Z"
    }
   }
  },
  {
   "cell_type": "code",
   "execution_count": 12,
   "outputs": [],
   "source": [
    "sc.set_figure_params(dpi=80)"
   ],
   "metadata": {
    "collapsed": false,
    "pycharm": {
     "name": "#%%\n"
    },
    "ExecuteTime": {
     "end_time": "2024-01-15T18:51:59.115911Z",
     "start_time": "2024-01-15T18:51:59.111675Z"
    }
   }
  },
  {
   "cell_type": "code",
   "execution_count": 13,
   "outputs": [],
   "source": [
    "new_tp = []\n",
    "for tp in all_samples.obs['timepoint']:\n",
    "    if tp == 'week2':\n",
    "        new_tp.append('Week 2')\n",
    "    elif tp == 'week4':\n",
    "        new_tp.append('Week 4')\n",
    "    elif tp == 'week6':\n",
    "        new_tp.append('Week 6')\n",
    "all_samples.obs['new_timepoint'] = new_tp"
   ],
   "metadata": {
    "collapsed": false,
    "pycharm": {
     "name": "#%%\n"
    },
    "ExecuteTime": {
     "end_time": "2024-01-15T18:51:59.139456Z",
     "start_time": "2024-01-15T18:51:59.121538Z"
    }
   }
  },
  {
   "cell_type": "code",
   "execution_count": 14,
   "outputs": [],
   "source": [
    "# annotate subcluster of interest as SOI\n",
    "all_samples.obs['doublet_SOI'] = np.where(all_samples.obs['leiden_clusters_res15'] == '18', 'SOI', all_samples.obs['Cell type'])"
   ],
   "metadata": {
    "collapsed": false,
    "ExecuteTime": {
     "end_time": "2024-01-15T18:51:59.147145Z",
     "start_time": "2024-01-15T18:51:59.139342Z"
    }
   }
  },
  {
   "cell_type": "code",
   "execution_count": 15,
   "outputs": [],
   "source": [
    "soi = all_samples[all_samples.obs['doublet_SOI'] == 'SOI']"
   ],
   "metadata": {
    "collapsed": false,
    "pycharm": {
     "name": "#%%\n"
    },
    "ExecuteTime": {
     "end_time": "2024-01-15T18:51:59.162809Z",
     "start_time": "2024-01-15T18:51:59.151169Z"
    }
   }
  },
  {
   "cell_type": "code",
   "execution_count": 16,
   "outputs": [],
   "source": [
    "annotated_cells = all_samples[(all_samples.obs['doublet_SOI'] != 'n.a.')]"
   ],
   "metadata": {
    "collapsed": false,
    "pycharm": {
     "name": "#%%\n"
    },
    "ExecuteTime": {
     "end_time": "2024-01-15T18:51:59.254854Z",
     "start_time": "2024-01-15T18:51:59.168405Z"
    }
   }
  },
  {
   "cell_type": "markdown",
   "source": [
    "# 4b: Marker gene expression"
   ],
   "metadata": {
    "collapsed": false,
    "pycharm": {
     "name": "#%% md\n"
    }
   }
  },
  {
   "cell_type": "code",
   "execution_count": 17,
   "outputs": [
    {
     "name": "stdout",
     "output_type": "stream",
     "text": [
      "WARNING: saving figure to file figures/dotplot_new_SOI_Marker_genes_dotplot.pdf\n"
     ]
    }
   ],
   "source": [
    "anno = {'T cell': ['CD3D', 'CD3E'],\n",
    "        'abT cell': ['TRAC', 'TRBC2'],\n",
    "        'CD4 T cell': ['CD4', 'IL7R'],\n",
    "        'CD8 T cell': ['CD8A', 'CD8B'],\n",
    "        'gdT cell': 'TRDC',\n",
    "        'NK/NKT cell': 'KLRB1',\n",
    "        'NK cell': ['GNLY', 'GZMB', 'NKG7'],\n",
    "        'B cell': 'MS4A1',\n",
    "        'Monocyte': 'LGALS3',\n",
    "        'Dendritic cell': 'IRF4',\n",
    "        }\n",
    "\n",
    "ax = sc.pl.dotplot(annotated_cells, anno, groupby='doublet_SOI', use_raw=False, var_group_rotation=90,\n",
    "                   swap_axes=False, dendrogram=False, show=False, save=\"new_SOI_Marker_genes_dotplot.pdf\")"
   ],
   "metadata": {
    "collapsed": false,
    "pycharm": {
     "name": "#%%\n"
    },
    "ExecuteTime": {
     "end_time": "2024-01-15T18:52:01.676077Z",
     "start_time": "2024-01-15T18:51:59.266227Z"
    }
   }
  },
  {
   "cell_type": "markdown",
   "source": [
    "# 4d: Violin plots depicting UMI counts"
   ],
   "metadata": {
    "collapsed": false,
    "pycharm": {
     "name": "#%% md\n"
    }
   }
  },
  {
   "cell_type": "code",
   "execution_count": null,
   "outputs": [],
   "source": [
    "sc.settings.verbosity = 0\n",
    "plt.rcParams[\"figure.figsize\"] = 6, 4\n",
    "\n",
    "df = pd.DataFrame({\"Cell type\": annotated_cells.obs['doublet_SOI'],\n",
    "                   \"#UMI\": annotated_cells.obs['#reads']})\n",
    "order = ['SOI','B cell','CD4 T cell','CD8 T cell','DC','Monocyte','NK T cell','NK cell','gdT cell']\n",
    "ax = sns.violinplot(data=df, y=\"#UMI\", x=\"Cell type\", color='orange', order=order)\n",
    "ax.set_ylabel('UMI count')\n",
    "ax.tick_params(axis='x', rotation=70)\n",
    "\n",
    "monos = annotated_cells[annotated_cells.obs['doublet_SOI'] == 'Monocyte']\n",
    "soi = annotated_cells[annotated_cells.obs['doublet_SOI'] == 'SOI']\n",
    "\n",
    "p_adj_soi_vs_monos = scistats.ranksums(soi.obs['#reads'],\n",
    "                                       monos.obs['#reads'], alternative='greater')[1]\n",
    "\n",
    "print(p_adj_soi_vs_monos)\n",
    "ax.set_ylim(bottom=0, top=1250)\n",
    "\n",
    "plt.savefig(f\"{save_path}/Violin_UMI_count_SOI.pdf\", bbox_inches='tight')\n",
    "plt.show()"
   ],
   "metadata": {
    "collapsed": false,
    "pycharm": {
     "name": "#%%\n"
    }
   }
  },
  {
   "cell_type": "code",
   "execution_count": 19,
   "outputs": [
    {
     "data": {
      "text/plain": "1248.0"
     },
     "execution_count": 19,
     "metadata": {},
     "output_type": "execute_result"
    }
   ],
   "source": [
    "max(annotated_cells.obs['#reads'])"
   ],
   "metadata": {
    "collapsed": false,
    "ExecuteTime": {
     "end_time": "2024-01-15T18:52:02.601195Z",
     "start_time": "2024-01-15T18:52:02.598013Z"
    }
   }
  },
  {
   "cell_type": "markdown",
   "source": [
    "# 4f: Correlation: HIF1A and clinical score"
   ],
   "metadata": {
    "collapsed": false,
    "pycharm": {
     "name": "#%% md\n"
    }
   }
  },
  {
   "cell_type": "code",
   "execution_count": 20,
   "outputs": [],
   "source": [
    "def correlation_logfc_cs(adata, gene, cell_type):\n",
    "    if cell_type != 'all':\n",
    "        adata = adata[(adata.obs['doublet_SOI'] == cell_type)]\n",
    "    pos_gene = -1\n",
    "    for i, gn in enumerate(adata.var_names):\n",
    "        if gn == gene:\n",
    "            pos_gene = i\n",
    "\n",
    "    plt.figure(figsize=(4, 4))\n",
    "    logfc_values_week4, logfc_values_week6, cs_values = [], [], []\n",
    "    for cs in list(set(adata.obs['clinical_score'])):\n",
    "        adata_cs = adata[(adata.obs['clinical_score'] == cs)]\n",
    "        week2 = adata_cs[(adata_cs.obs['timepoint'] == 'week2')]\n",
    "        week4 = adata_cs[(adata_cs.obs['timepoint'] == 'week4')]\n",
    "        week6 = adata_cs[(adata_cs.obs['timepoint'] == 'week6')]\n",
    "\n",
    "        #calculate mean of normalized (NOT log-normalized) counts\n",
    "        mean_week2 = statistics.mean(week2.layers['two_batch_correction'][:, pos_gene])\n",
    "        mean_week4 = statistics.mean(week4.layers['two_batch_correction'][:, pos_gene])\n",
    "        mean_week6 = statistics.mean(week6.layers['two_batch_correction'][:, pos_gene])\n",
    "        lfc_week2vs4 = mean_week2 / mean_week4\n",
    "        lfc_week2vs6 = mean_week2 / mean_week6\n",
    "\n",
    "        logfc_values_week4.append(math.log2(lfc_week2vs4))\n",
    "        logfc_values_week6.append(math.log2(lfc_week2vs6))\n",
    "        cs_values.append(cs)\n",
    "\n",
    "    x = np.array(cs_values)\n",
    "    y = np.array(logfc_values_week4)\n",
    "    plt.scatter(x, y, color='blue')\n",
    "    plt.plot(np.unique(x), np.poly1d(np.polyfit(x, y, 1))(np.unique(x)), color='blue', label=\"Week 2 vs 4\")\n",
    "    y = np.array(logfc_values_week6)\n",
    "    plt.scatter(x, y, color='red')\n",
    "    plt.plot(np.unique(x), np.poly1d(np.polyfit(x, y, 1))(np.unique(x)), color='red', label=\"Week 2 vs 6\")\n",
    "\n",
    "    x = pd.Series(cs_values)\n",
    "    y = pd.Series(logfc_values_week4)\n",
    "    pcc, p_val = scistats.mstats.pearsonr(x, y)\n",
    "    print(f\"week 2 vs 4: PCC: {pcc}; p-value: {p_val}\")\n",
    "    plt.text(11, -0.25, f'PCC:{round(pcc, 2)}; p:{round(p_val, 2)}', color='blue')\n",
    "\n",
    "    y = pd.Series(logfc_values_week6)\n",
    "    pcc, p_val = scistats.mstats.pearsonr(x, y)\n",
    "    print(f\"week 2 vs 6: PCC: {pcc}; p-value: {p_val}\")\n",
    "    plt.text(11, -0.4, f'PCC:{round(pcc, 2)}; p:{round(p_val, 2)}', color='red')\n",
    "\n",
    "    plt.legend()\n",
    "    plt.xlabel('Clinical score')\n",
    "    plt.ylabel('Log2 fold change')\n",
    "    plt.savefig(f'{save_path}/SOI_HIF1A_cs_correlation.pdf', bbox_inches='tight')"
   ],
   "metadata": {
    "collapsed": false,
    "pycharm": {
     "name": "#%%\n"
    },
    "ExecuteTime": {
     "end_time": "2024-01-15T18:52:02.611403Z",
     "start_time": "2024-01-15T18:52:02.609974Z"
    }
   }
  },
  {
   "cell_type": "code",
   "execution_count": null,
   "outputs": [],
   "source": [
    "correlation_logfc_cs(all_samples, 'HIF1A', 'SOI')"
   ],
   "metadata": {
    "collapsed": false,
    "pycharm": {
     "name": "#%%\n"
    }
   }
  },
  {
   "cell_type": "markdown",
   "source": [
    "# 4c: UMAP: Marker gene expression"
   ],
   "metadata": {
    "collapsed": false,
    "pycharm": {
     "name": "#%% md\n"
    }
   }
  },
  {
   "cell_type": "code",
   "execution_count": 22,
   "outputs": [],
   "source": [
    "sc.pp.neighbors(soi)\n",
    "sc.tl.umap(soi)"
   ],
   "metadata": {
    "collapsed": false,
    "pycharm": {
     "name": "#%%\n"
    },
    "ExecuteTime": {
     "end_time": "2024-01-15T18:52:15.399431Z",
     "start_time": "2024-01-15T18:52:03.070401Z"
    }
   }
  },
  {
   "cell_type": "code",
   "execution_count": 23,
   "outputs": [],
   "source": [
    "marker_genes = ['CD3D', 'TRAC', 'CD8A', 'TRDC', 'IL7R', 'LGALS3', 'KLRB1', 'GNLY', 'GZMB', 'NKG7']"
   ],
   "metadata": {
    "collapsed": false,
    "pycharm": {
     "name": "#%%\n"
    },
    "ExecuteTime": {
     "end_time": "2024-01-15T18:52:15.410505Z",
     "start_time": "2024-01-15T18:52:15.401623Z"
    }
   }
  },
  {
   "cell_type": "code",
   "execution_count": null,
   "outputs": [],
   "source": [
    "plt.rcParams[\"figure.figsize\"] = 4, 3\n",
    "sc.pl.umap(soi, color=marker_genes[:2], save='SOI_part1_V1.pdf')\n",
    "sc.pl.umap(soi, color=marker_genes[2:5], save='SOI_part2_V1.pdf')\n",
    "sc.pl.umap(soi, color=marker_genes[5:7], save='SOI_part3_V1.pdf')\n",
    "sc.pl.umap(soi, color=marker_genes[7:10], save='SOI_part4_V1.pdf')"
   ],
   "metadata": {
    "collapsed": false,
    "pycharm": {
     "name": "#%%\n"
    }
   }
  },
  {
   "cell_type": "markdown",
   "source": [
    "# 4e: Violins stacked by cs"
   ],
   "metadata": {
    "collapsed": false,
    "pycharm": {
     "name": "#%% md\n"
    }
   }
  },
  {
   "cell_type": "code",
   "execution_count": 25,
   "outputs": [],
   "source": [
    "def violin_with_p_gene(adata_temp, clinical_score, gene, cell_type, axarr, gene_nr, custom_top):\n",
    "    plt.sca(axarr[gene_nr])\n",
    "    if clinical_score != 'all':\n",
    "        adata_temp_cs = adata_temp[adata_temp.obs['clinical_score'] == clinical_score]\n",
    "    else:\n",
    "        adata_temp_cs = adata_temp\n",
    "    adata_temp_cs.obs[\"value\"] = 0\n",
    "    position_gene = -1\n",
    "    for i, gn in enumerate(adata_temp_cs.var_names):\n",
    "        if gn == gene:\n",
    "            position_gene = i\n",
    "\n",
    "    if cell_type != 'all cell':\n",
    "        adata_cs_type = adata_temp_cs[adata_temp_cs.obs['Cell type'] == cell_type]\n",
    "    else:\n",
    "        adata_cs_type = adata_temp_cs\n",
    "    adata_cs_type.obs[\"value\"] = 0\n",
    "\n",
    "    sc.settings.verbosity = 0\n",
    "\n",
    "    df = pd.DataFrame({\"Timepoint\": adata_cs_type.obs['new_timepoint'],\n",
    "                       \"expression\": adata_cs_type.layers['two_batch_correction'][:, position_gene]})\n",
    "    ax = sns.violinplot(data=df, y=\"expression\", x=\"Timepoint\", order=['Week 2', 'Week 4', 'Week 6'])\n",
    "    ax.set_xlabel(f'c.s. {clinical_score}')\n",
    "\n",
    "    week2 = adata_cs_type[adata_cs_type.obs['timepoint'] == 'week2']\n",
    "    week4 = adata_cs_type[adata_cs_type.obs['timepoint'] == 'week4']\n",
    "    week6 = adata_cs_type[adata_cs_type.obs['timepoint'] == 'week6']\n",
    "\n",
    "    p_adj_week2vs4 = scistats.ranksums(week2.layers['two_batch_correction'][:, position_gene],\n",
    "                                       week4.layers['two_batch_correction'][:, position_gene],\n",
    "                                       alternative='greater')[1]\n",
    "    p_adj_week2vs6 = scistats.ranksums(week2.layers['two_batch_correction'][:, position_gene],\n",
    "                                       week6.layers['two_batch_correction'][:, position_gene],\n",
    "                                       alternative='greater')[1]\n",
    "    p_adj_week4vs6 = scistats.ranksums(week4.layers['two_batch_correction'][:, position_gene],\n",
    "                                       week6.layers['two_batch_correction'][:, position_gene],\n",
    "                                       alternative='greater')[1]\n",
    "\n",
    "    top = np.ceil(np.max(adata_cs_type.layers['two_batch_correction'][:, position_gene])) +1\n",
    "\n",
    "    ax.annotate(\"\", xy=(0.15, top), xytext=(0.85, top),\n",
    "                arrowprops={'arrowstyle': '-'}, va='center')\n",
    "    ax.annotate(\"\", xy=(1.15, top), xytext=(1.85, top),\n",
    "                arrowprops={'arrowstyle': '-'}, va='center')\n",
    "    ax.annotate(\"\", xy=(0.15, top + 1.25), xytext=(1.85, top + 1.25),\n",
    "                arrowprops={'arrowstyle': '-'}, va='center')\n",
    "\n",
    "    if p_adj_week2vs6 == 0 or p_adj_week2vs6 >= 1:\n",
    "        ax.annotate(min(int(p_adj_week2vs6), 1), xy=(1, top + 1.4), fontsize=9)\n",
    "    else:\n",
    "        ax.annotate('{:.2e}'.format(p_adj_week2vs6), xy=(0.8, top + 1.4), fontsize=9)\n",
    "\n",
    "    if p_adj_week2vs4 == 0 or p_adj_week2vs4 >= 1:\n",
    "        ax.annotate(min(int(p_adj_week2vs4), 1), xy=(0.4, top + 0.15), fontsize=9)\n",
    "    else:\n",
    "        ax.annotate('{:.2e}'.format(p_adj_week2vs4), xy=(0.2, top + 0.15), fontsize=9)\n",
    "    if p_adj_week4vs6 == 0 or p_adj_week4vs6 >= 1:\n",
    "        ax.annotate(min(int(p_adj_week4vs6), 1), xy=(1.4, top + 0.15), fontsize=9)\n",
    "    else:\n",
    "        ax.annotate('{:.2e}'.format(p_adj_week4vs6), xy=(1.2, top + 0.15), fontsize=9)\n",
    "\n",
    "    plt.xticks(rotation=45,ha='right', fontsize=12.5)\n",
    "    ax.set_ylim(top=custom_top)"
   ],
   "metadata": {
    "collapsed": false,
    "pycharm": {
     "name": "#%%\n"
    },
    "ExecuteTime": {
     "end_time": "2024-01-15T18:52:17.305264Z",
     "start_time": "2024-01-15T18:52:17.294273Z"
    }
   }
  },
  {
   "cell_type": "code",
   "execution_count": 26,
   "outputs": [],
   "source": [
    "def violin_stacked_by_cs(gene, adata, custom_top):\n",
    "    fig = plt.figure()\n",
    "    plt.rcParams[\"figure.figsize\"] = (6 * 2.5),2.3\n",
    "    gs = fig.add_gridspec(1,6, wspace=0)\n",
    "    axs = gs.subplots(sharex=True, sharey=True)\n",
    "    for i, cs in enumerate([0, 11, 14, 17, 19, 26]):\n",
    "        violin_with_p_gene(adata, clinical_score=cs, gene=gene, cell_type='all cell', axarr=axs, gene_nr=i, custom_top=custom_top)\n",
    "\n",
    "    # Hide x labels and tick labels for all but bottom plot.\n",
    "    for ax in axs:\n",
    "        ax.label_outer()\n",
    "\n",
    "    plt.savefig(f'{save_path}/{gene}_SOI_stacked_by_cs.pdf', bbox_inches='tight')"
   ],
   "metadata": {
    "collapsed": false,
    "pycharm": {
     "name": "#%%\n"
    },
    "ExecuteTime": {
     "end_time": "2024-01-15T18:52:17.313847Z",
     "start_time": "2024-01-15T18:52:17.308146Z"
    }
   }
  },
  {
   "cell_type": "code",
   "execution_count": null,
   "outputs": [],
   "source": [
    "violin_stacked_by_cs('HIF1A', soi, 11)"
   ],
   "metadata": {
    "collapsed": false,
    "pycharm": {
     "name": "#%%\n"
    }
   }
  }
 ],
 "metadata": {
  "kernelspec": {
   "display_name": "Python 3",
   "language": "python",
   "name": "python3"
  },
  "language_info": {
   "codemirror_mode": {
    "name": "ipython",
    "version": 2
   },
   "file_extension": ".py",
   "mimetype": "text/x-python",
   "name": "python",
   "nbconvert_exporter": "python",
   "pygments_lexer": "ipython2",
   "version": "2.7.6"
  }
 },
 "nbformat": 4,
 "nbformat_minor": 0
}
